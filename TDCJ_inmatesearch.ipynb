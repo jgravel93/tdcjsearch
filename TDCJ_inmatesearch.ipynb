{
 "cells": [
  {
   "cell_type": "markdown",
   "metadata": {},
   "source": [
    "# TDCJ Inmate Search"
   ]
  },
  {
   "cell_type": "markdown",
   "metadata": {},
   "source": [
    "<h2>Instructions</h2>\n",
    "1. Select the cell below and press SHIFT+ENTER\n",
    "2. Select 1 of 3 options: 'Use Test Data','Use SID',or 'Use Own Data'\n",
    "3. Use Test Data---Click on the 'Test Data' button to generate the report. It should take no more than 30 seconds. This reports uses some test cases included in the current program\n",
    "4. Use SID---Type in the SID number of an inmate and hit 'Enter'. A report should be generated within 10 seconds.\n",
    "5. Use Own Data---This function allows you to pass a list of SIDs to the program as a csv file. The csv file should be a single column of SIDs without a header.(Note: the program automatically generates leading zeros for the ids.).Enter the full path to the file on your computer in the box and press 'Enter'. Depending on the length of your SID list, it could take a few minutes for the report to be generated.\n",
    "    \n",
    "    \n",
    "    "
   ]
  },
  {
   "cell_type": "code",
   "execution_count": 2,
   "metadata": {
    "collapsed": false
   },
   "outputs": [
    {
     "name": "stdout",
     "output_type": "stream",
     "text": [
      "Loading....\n",
      "Output for the first 9 variables (criminal history is hidden) and 6 first cases\n",
      "  SID Number TDCJ Number                  Name Race Gender         DOB  \\\n",
      "0   02948864    01207094     MARTINEZ,JACK LEE    W      M  1959-01-16   \n",
      "1   07746033    01552933      MARTINEZ,JACKSON    H      M  1988-10-07   \n",
      "2   06158138    01791013        MARTINEZ,JACOB    H      M  1981-12-02   \n",
      "3   06403653    01877081        MARTINEZ,JACOB    H      M  1985-02-14   \n",
      "4   04381375    01262427        MARTINEZ,JACOB    H      M  1972-12-15   \n",
      "5   07934320    02030663  MARTINEZ,JACOB AARON    H      M  1992-11-23   \n",
      "\n",
      "  Maximum Sentence Date Current Facility Projected Release Date  \n",
      "0            2052-05-22    ALFRED HUGHES             2052-05-22  \n",
      "1            2048-02-03       DARRINGTON             2048-02-03  \n",
      "2            2018-02-13       DARRINGTON             2018-02-13  \n",
      "3            2017-12-15          MICHAEL             2017-12-15  \n",
      "4            2063-06-13         POLUNSKY             2063-06-13  \n",
      "5            2021-06-02          CLEMENS             2018-02-11  \n",
      "Loading....\n",
      "Output for the first 9 variables (criminal history is hidden) and 6 first cases\n",
      "  SID Number TDCJ Number              Name Race Gender         DOB  \\\n",
      "0   07746033    01552933  MARTINEZ,JACKSON    H      M  1988-10-07   \n",
      "\n",
      "  Maximum Sentence Date Current Facility Projected Release Date  \n",
      "0            2048-02-03       DARRINGTON             2048-02-03  \n",
      "Loading....\n",
      "Output for the first 9 variables (criminal history is hidden) and 6 first cases\n",
      "  SID Number TDCJ Number                  Name Race Gender         DOB  \\\n",
      "0   02948864    01207094     MARTINEZ,JACK LEE    W      M  1959-01-16   \n",
      "1   07746033    01552933      MARTINEZ,JACKSON    H      M  1988-10-07   \n",
      "2   06158138    01791013        MARTINEZ,JACOB    H      M  1981-12-02   \n",
      "3   06403653    01877081        MARTINEZ,JACOB    H      M  1985-02-14   \n",
      "4   04381375    01262427        MARTINEZ,JACOB    H      M  1972-12-15   \n",
      "5   07934320    02030663  MARTINEZ,JACOB AARON    H      M  1992-11-23   \n",
      "\n",
      "  Maximum Sentence Date Current Facility Projected Release Date  \n",
      "0            2052-05-22    ALFRED HUGHES             2052-05-22  \n",
      "1            2048-02-03       DARRINGTON             2048-02-03  \n",
      "2            2018-02-13       DARRINGTON             2018-02-13  \n",
      "3            2017-12-15          MICHAEL             2017-12-15  \n",
      "4            2063-06-13         POLUNSKY             2063-06-13  \n",
      "5            2021-06-02          CLEMENS             2018-02-11  \n"
     ]
    }
   ],
   "source": [
    "from gui import *\n",
    "main()"
   ]
  },
  {
   "cell_type": "code",
   "execution_count": null,
   "metadata": {
    "collapsed": true
   },
   "outputs": [],
   "source": []
  }
 ],
 "metadata": {
  "kernelspec": {
   "display_name": "Python 3",
   "language": "python",
   "name": "python3"
  },
  "language_info": {
   "codemirror_mode": {
    "name": "ipython",
    "version": 3
   },
   "file_extension": ".py",
   "mimetype": "text/x-python",
   "name": "python",
   "nbconvert_exporter": "python",
   "pygments_lexer": "ipython3",
   "version": "3.6.0"
  },
  "widgets": {
   "state": {
    "c2a2473985ef480a8e5f86f256618304": {
     "views": [
      {
       "cell_index": 2
      }
     ]
    }
   },
   "version": "1.2.0"
  }
 },
 "nbformat": 4,
 "nbformat_minor": 1
}
