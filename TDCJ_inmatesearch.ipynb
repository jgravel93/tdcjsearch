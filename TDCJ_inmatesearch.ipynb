{
 "cells": [
  {
   "cell_type": "markdown",
   "metadata": {},
   "source": [
    "# TDCJ Inmate Search"
   ]
  },
  {
   "cell_type": "markdown",
   "metadata": {},
   "source": [
    "<h2>Instructions</h2>\n",
    "1. Select the cell below and press SHIFT+ENTER\n",
    "2. Select 1 of 3 options: 'Use Test Data','Use SID',or 'Use Own Data'\n",
    "3. Use Test Data---Click on the 'Test Data' button to generate the report. It should take no more than 30 seconds. This reports uses some test cases included in the current program\n",
    "4. Use SID---Type in the SID number of an inmate and hit 'Enter'. A report should be generated within 10 seconds.\n",
    "5. Use Own Data---This function allows you to pass a list of SIDs to the program as a csv file. The csv file should be a single column of SIDs without a header.(Note: the program automatically generates leading zeros for the ids.).Enter the full path to the file on your computer in the box and press 'Enter'. Depending on the length of your SID list, it could take a few minutes for the report to be generated.\n",
    "\n",
    "Note: for each of these options, a csv file is automatically generated for the results and can be found within the same folder where the script is found. The file is saved under a generic name and is overwritten everytime the script is run. If you want to keep the data, either manually change the file name in the folder, or move the file to a different folder\n",
    "    \n",
    "    "
   ]
  },
  {
   "cell_type": "code",
   "execution_count": null,
   "metadata": {
    "collapsed": false
   },
   "outputs": [],
   "source": [
    "from gui import *\n",
    "main()"
   ]
  },
  {
   "cell_type": "code",
   "execution_count": null,
   "metadata": {
    "collapsed": true
   },
   "outputs": [],
   "source": []
  }
 ],
 "metadata": {
  "kernelspec": {
   "display_name": "Python 3",
   "language": "python",
   "name": "python3"
  },
  "language_info": {
   "codemirror_mode": {
    "name": "ipython",
    "version": 3
   },
   "file_extension": ".py",
   "mimetype": "text/x-python",
   "name": "python",
   "nbconvert_exporter": "python",
   "pygments_lexer": "ipython3",
   "version": "3.6.0"
  },
  "widgets": {
   "state": {
    "49fc22783b884410b4026b3e80389313": {
     "views": [
      {
       "cell_index": 2
      }
     ]
    }
   },
   "version": "1.2.0"
  }
 },
 "nbformat": 4,
 "nbformat_minor": 1
}
